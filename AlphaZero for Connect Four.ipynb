{
 "cells": [
  {
   "cell_type": "markdown",
   "metadata": {},
   "source": [
    "### Connect Four implementation"
   ]
  },
  {
   "cell_type": "code",
   "execution_count": 18,
   "metadata": {},
   "outputs": [],
   "source": [
    "class Board:\n",
    "\n",
    "    WIDTH: int = 7\n",
    "    HEIGHT: int = 6\n",
    "    TOKENS: list = [\n",
    "        [7, 4], # Horizontal Connect-Four\n",
    "        [1, 2], # Vertical Connect-Four\n",
    "        [6, 12], # Diagonal Connect-Four\n",
    "        [8, 16] # Diagonal Connect-Four\n",
    "    ]\n",
    "\n",
    "    def __init__(self) -> None:\n",
    "        '''\n",
    "        position: bitstring representing the positions of the tokens of a player\n",
    "        mask: bitstring representing the positions of both players\n",
    "        '''\n",
    "        self.position: int = 0\n",
    "        self.mask: int = 0\n",
    "        self.moves = 0\n",
    "    \n",
    "    def clone(self):\n",
    "        result: Board = Board()\n",
    "        result.position = self.position\n",
    "        result.mask = self.mask\n",
    "        result.moves = self.moves\n",
    "        return result\n",
    "    \n",
    "    def is_playable(self, col: int) -> bool:\n",
    "        top_mask: int = 1 << (Board.HEIGHT - 1) << col * (Board.HEIGHT + 1)\n",
    "        return (self.mask & top_mask) == 0\n",
    "\n",
    "    def connected_four(self) -> bool:\n",
    "        line: int\n",
    "\n",
    "        # Use the position bitboard to determine a win\n",
    "        for [a, b] in Board.TOKENS:\n",
    "            line = self.position & (self.position >> a)\n",
    "            if (line & (line >> b)):\n",
    "                return True\n",
    "\n",
    "        return False\n",
    "    \n",
    "    def move(self, col: int) -> bool:\n",
    "        if not (0 <= col < Board.WIDTH):\n",
    "            raise ValueError\n",
    "        \n",
    "        if not self.is_playable(col):\n",
    "            raise ValueError\n",
    "\n",
    "        bottom_mask: int = 1 << (col * (Board.HEIGHT + 1))\n",
    "        self.position ^= self.mask\n",
    "        self.mask |= self.mask + bottom_mask\n",
    "        self.moves += 1\n",
    "\n",
    "        return self.connected_four()\n",
    "    \n",
    "    def get_valid_moves(self) -> list:\n",
    "        return [c for c in range(Board.WIDTH) if self.is_playable(c)]"
   ]
  },
  {
   "cell_type": "markdown",
   "metadata": {},
   "source": [
    "Code to run a simulation between two players"
   ]
  },
  {
   "cell_type": "code",
   "execution_count": 21,
   "metadata": {},
   "outputs": [],
   "source": [
    "# players = [player_one, player_two]\n",
    "def run_simulations(iterations: int, players: list) -> list:\n",
    "    wins: list = [\n",
    "        0, # player one's wins\n",
    "        0  # player two's wins\n",
    "    ]\n",
    "\n",
    "    game: Board\n",
    "    action: int # which column will be chosen by the Player class\n",
    "    player: int # whether we're player 0 or 1\n",
    "\n",
    "    for i in range(iterations):\n",
    "        if i % 100 == 0:\n",
    "            print(f\"{i} games completed.\")\n",
    "        \n",
    "        game = Board()\n",
    "\n",
    "        while len(game.get_valid_moves()) > 0:\n",
    "            player = game.moves % 2\n",
    "            action = players[player].move(game)\n",
    "            if game.move(action):\n",
    "                wins[player] += 1\n",
    "                break\n",
    "    \n",
    "    return wins\n",
    "        "
   ]
  },
  {
   "cell_type": "markdown",
   "metadata": {},
   "source": [
    "Abstract Class that different players will inherit"
   ]
  },
  {
   "cell_type": "code",
   "execution_count": 11,
   "metadata": {},
   "outputs": [],
   "source": [
    "from abc import ABC, abstractmethod\n",
    "\n",
    "class BasePlayer:\n",
    "    def __init__(self):\n",
    "        pass\n",
    "    \n",
    "    @abstractmethod\n",
    "    def move(self, game):\n",
    "        pass\n"
   ]
  },
  {
   "cell_type": "markdown",
   "metadata": {},
   "source": [
    "Random player which randomly chooses a move from the valid moves"
   ]
  },
  {
   "cell_type": "code",
   "execution_count": 12,
   "metadata": {},
   "outputs": [],
   "source": [
    "import random\n",
    "\n",
    "class RandomPlayer(BasePlayer):\n",
    "    def __init__(self):\n",
    "        pass\n",
    "\n",
    "    def move(self, game):\n",
    "        return random.choice(game.get_valid_moves())"
   ]
  },
  {
   "cell_type": "markdown",
   "metadata": {},
   "source": [
    "Quick test to make sure that the game works correctly - the wins for each player should be roughly half and there should be very little draws"
   ]
  },
  {
   "cell_type": "code",
   "execution_count": 25,
   "metadata": {},
   "outputs": [
    {
     "name": "stdout",
     "output_type": "stream",
     "text": [
      "0 games completed.\n",
      "100 games completed.\n",
      "200 games completed.\n",
      "300 games completed.\n",
      "400 games completed.\n",
      "500 games completed.\n",
      "600 games completed.\n",
      "700 games completed.\n",
      "800 games completed.\n",
      "900 games completed.\n",
      "Random Player 1 wins: 467\n",
      "Random Player 2 wins: 533\n",
      "Draws: 0\n"
     ]
    }
   ],
   "source": [
    "p1 = RandomPlayer()\n",
    "p2 = RandomPlayer()\n",
    "wins = run_simulations(1000, [p1, p2])\n",
    "print(\"Random Player 1 wins: \" + str(wins[0]))\n",
    "print(\"Random Player 2 wins: \" + str(wins[1]))\n",
    "print(\"Draws: \" + str(1000 - wins[0] - wins[1]))"
   ]
  },
  {
   "cell_type": "markdown",
   "metadata": {},
   "source": [
    "# MCTS Implementation"
   ]
  },
  {
   "cell_type": "code",
   "execution_count": 6,
   "metadata": {},
   "outputs": [],
   "source": [
    "import math\n",
    "import time\n",
    "import copy\n",
    "\n",
    "class Node:\n",
    "    def __init__(self, game, game_copy, predecessor):\n",
    "        self.game = game \n",
    "        self.game_copy = game_copy\n",
    "        self.predecessor = predecessor\n",
    "        self.actions = game.get_valid_moves()\n",
    "        self.successors = []\n",
    "        self.payoff = 0\n",
    "        self.num_paths = 0\n",
    "    \n",
    "class MCTSPlayer(BasePlayer):\n",
    "    def __init__(self, time_limit):\n",
    "        self.time_limit = time_limit\n",
    "\n",
    "    def move(self, game, player):\n",
    "        game_cpy = game.clone()\n",
    "        root = Node(game_cpy, None, None)\n",
    "        time_end = time.time() + self.time_limit\n",
    "        while time.time() < time_end:\n",
    "            curr_node = root\n",
    "            while not curr_node.game.is_terminal:\n",
    "                if len(curr_node.actions) != 0:\n",
    "                    break\n",
    "                vals = []\n",
    "                for successor in curr_node.successors:\n",
    "                    if successor.predecessor.game.player_to_move == 1:\n",
    "                        vals.append(successor.payoff / successor.num_paths - 2 * math.sqrt(2) * math.sqrt(math.log(successor.predecessor.num_paths) / successor.num_paths))\n",
    "                    else:\n",
    "                        vals.append(successor.payoff / successor.num_paths + 2 * math.sqrt(2) * math.sqrt(math.log(successor.predecessor.num_paths) / successor.num_paths))\n",
    "                if(curr_node.game.player_to_move == 1):\n",
    "                    i = vals.index(min(vals))\n",
    "                else:\n",
    "                    i = vals.index(max(vals))\n",
    "                curr_node = curr_node.successors[i]\n",
    "            if not curr_node.game.is_terminal:\n",
    "                action = curr_node.actions.pop()\n",
    "                game_copy = curr_node.game\n",
    "                game_copy.move(action)\n",
    "                next_node = Node(game_copy, action, curr_node)\n",
    "                curr_node.successors.append(next_node)\n",
    "                curr_state = next_node\n",
    "                while not curr_state.game.is_terminal:\n",
    "                    action = random.choice(curr_state.actions)\n",
    "                    game_copy = curr_node.game\n",
    "                    game_copy.move(action)\n",
    "                    new_state = Node(game_copy, action, curr_state)\n",
    "                    curr_state = new_state\n",
    "                if curr_state.game.winner is None:\n",
    "                    payoff = 0\n",
    "                elif curr_state.game.winner == player:\n",
    "                    payoff = 1\n",
    "                else:\n",
    "                    payoff = -1\n",
    "                tmp = next_node\n",
    "                while(tmp is not None):\n",
    "                    tmp.num_paths += 1\n",
    "                    tmp.payoff += payoff\n",
    "                    tmp = tmp.predecessor\n",
    "            else:\n",
    "                if curr_node.game.winner is None:\n",
    "                    payoff = 0\n",
    "                elif curr_node.game.winner == player:\n",
    "                    payoff = 1\n",
    "                else:\n",
    "                    payoff = -1\n",
    "                tmp = curr_node\n",
    "                while(tmp is not None):\n",
    "                    tmp.num_paths += 1\n",
    "                    tmp.payoff += payoff\n",
    "                    tmp = tmp.predecessor\n",
    "        exploitations = []\n",
    "        for successor in root.successors:\n",
    "            exploitations.append(successor.payoff / successor.num_paths)\n",
    "        if(root.game.player_to_move == 1):\n",
    "            i = exploitations.index(min(exploitations))\n",
    "        else:\n",
    "            i = exploitations.index(max(exploitations))\n",
    "        return root.successors[i].game_copy"
   ]
  },
  {
   "cell_type": "markdown",
   "metadata": {},
   "source": [
    "Results of MCTS vs random player"
   ]
  },
  {
   "cell_type": "code",
   "execution_count": 7,
   "metadata": {},
   "outputs": [
    {
     "name": "stdout",
     "output_type": "stream",
     "text": [
      "0 games done\n",
      "100 games done\n",
      "200 games done\n",
      "300 games done\n",
      "400 games done\n",
      "500 games done\n",
      "600 games done\n",
      "700 games done\n",
      "800 games done\n",
      "900 games done\n",
      "MCTS Player wins: 785\n",
      "Random Player wins: 215\n",
      "Draws: 0\n"
     ]
    }
   ],
   "source": [
    "p1 = MCTSPlayer(0.01)\n",
    "p2 = RandomPlayer()\n",
    "wins = run_simulations(1000, [p1, p2])\n",
    "print(\"MCTS Player wins: \" + str(wins[p1]))\n",
    "print(\"Random Player wins: \" + str(wins[p2]))\n",
    "print(\"Draws: \" + str(1000 - wins[p1] - wins[p2]))"
   ]
  },
  {
   "cell_type": "code",
   "execution_count": null,
   "metadata": {},
   "outputs": [],
   "source": [
    "import keras\n",
    "from keras.models import Sequential, load_model\n",
    "from keras.layers import Dense, Dropout, Activation, Flatten\n",
    "from keras.layers import Conv2D, MaxPooling2D\n",
    "import os\n",
    "\n",
    "class NeuralNetwork:\n",
    "    def __init__(self):\n",
    "        self.model_file = 'model.h5'\n",
    "        model = Sequential()\n",
    "        model.add(Conv2D(64, (4,4), input_shape=(6, 7, 1)))\n",
    "        model.add(Activation('relu'))\n",
    "        model.add(Conv2D(64, (2, 2)))\n",
    "        model.add(Activation('relu'))\n",
    "        model.add(Conv2D(64, (2, 2)))\n",
    "        model.add(Activation('relu'))\n",
    "        model.add(Flatten())\n",
    "        model.add(Dense(64))\n",
    "        model.add(Activation('relu'))\n",
    "        model.add(Dense(1))\n",
    "        model.compile(loss = 'mean_squared_error', optimizer = keras.optimizers.Adagrad(), metrics=['accuracy'])\n",
    "        self.model = model\n",
    "        if os.path.isfile(model_file):\n",
    "            self.model = load_model(model_file)\n",
    "        "
   ]
  },
  {
   "cell_type": "code",
   "execution_count": null,
   "metadata": {},
   "outputs": [],
   "source": []
  }
 ],
 "metadata": {
  "kernelspec": {
   "display_name": "Python 3.8.9 64-bit",
   "language": "python",
   "name": "python3"
  },
  "language_info": {
   "codemirror_mode": {
    "name": "ipython",
    "version": 3
   },
   "file_extension": ".py",
   "mimetype": "text/x-python",
   "name": "python",
   "nbconvert_exporter": "python",
   "pygments_lexer": "ipython3",
   "version": "3.8.9"
  },
  "vscode": {
   "interpreter": {
    "hash": "31f2aee4e71d21fbe5cf8b01ff0e069b9275f58929596ceb00d14d90e3e16cd6"
   }
  }
 },
 "nbformat": 4,
 "nbformat_minor": 4
}
